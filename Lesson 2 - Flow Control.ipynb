{
 "cells": [
  {
   "cell_type": "markdown",
   "metadata": {},
   "source": [
    "# Lesson 2: Flow Control\n",
    "\n",
    "We generally don't want our programs to just execute all instructions in sequence. We want to dynamically execute some code many times, or not at all, depending on some conditions."
   ]
  },
  {
   "cell_type": "markdown",
   "metadata": {},
   "source": [
    "## Conditions: `if` / `else`"
   ]
  },
  {
   "cell_type": "code",
   "execution_count": 13,
   "metadata": {},
   "outputs": [
    {
     "name": "stdout",
     "output_type": "stream",
     "text": [
      "this should always run\n",
      "non-empty / non-null values are considered truthy\n"
     ]
    }
   ],
   "source": [
    "if False:\n",
    "  print('this should never run!')\n",
    "else:\n",
    "  print('this should always run')\n",
    "\n",
    "# note how some non-Boolean expressions are interpreted as truthy or falsy\n",
    "if 0 or False or '' or []:\n",
    "  print('null / empty / zero values are falsy')\n",
    "\n",
    "if 1 and True and 'foo' and ['bar']:\n",
    "  print('non-empty / non-null values are considered truthy')\n"
   ]
  },
  {
   "cell_type": "markdown",
   "metadata": {},
   "source": [
    "## Loops\n",
    "\n",
    "Loops are used to execute a block of code 0 or more times, based on some conditions.\n",
    "\n",
    "Two variants:\n",
    "\n",
    "- `for` loops are the simplest to use, useful to iterate through a collection or a number range\n",
    "- `while` loops allow for more complex conditions, e.g. to combine multiple criteria"
   ]
  },
  {
   "cell_type": "code",
   "execution_count": 14,
   "metadata": {},
   "outputs": [
    {
     "name": "stdout",
     "output_type": "stream",
     "text": [
      "Value of 'element' in this iteration: toto\n",
      "Value of 'element' in this iteration: tata\n",
      "Value of 'element' in this iteration: titi\n",
      "Iteration #0\n",
      "Iteration #1\n",
      "Iteration #2\n",
      "Iteration #3\n",
      "Iteration #4\n",
      "Iteration #5\n",
      "Iteration #6\n",
      "Iteration #7\n",
      "Iteration #8\n",
      "Iteration #9\n"
     ]
    }
   ],
   "source": [
    "for element in ['toto', 'tata', 'titi']:\n",
    "  print(f\"Value of 'element' in this iteration: {element}\")\n",
    "\n",
    "for i in range(0, 10):\n",
    "  print(f\"Iteration #{i}\")"
   ]
  },
  {
   "cell_type": "code",
   "execution_count": 15,
   "metadata": {},
   "outputs": [
    {
     "name": "stdout",
     "output_type": "stream",
     "text": [
      "i: 0, j: 10\n",
      "i: 1, j: 9\n",
      "i: 2, j: 8\n",
      "i: 3, j: 7\n",
      "i: 4, j: 6\n",
      "i: 5, j: 5\n"
     ]
    }
   ],
   "source": [
    "i = 0\n",
    "j = 10\n",
    "while i <= j:\n",
    "  print(f\"i: {i}, j: {j}\")\n",
    "  i += 1\n",
    "  j -= 1\n"
   ]
  }
 ],
 "metadata": {
  "kernelspec": {
   "display_name": "Python 3.10.6 64-bit",
   "language": "python",
   "name": "python3"
  },
  "language_info": {
   "codemirror_mode": {
    "name": "ipython",
    "version": 3
   },
   "file_extension": ".py",
   "mimetype": "text/x-python",
   "name": "python",
   "nbconvert_exporter": "python",
   "pygments_lexer": "ipython3",
   "version": "3.10.6"
  },
  "orig_nbformat": 4,
  "vscode": {
   "interpreter": {
    "hash": "b0fa6594d8f4cbf19f97940f81e996739fb7646882a419484c72d19e05852a7e"
   }
  }
 },
 "nbformat": 4,
 "nbformat_minor": 2
}
