{
 "cells": [
  {
   "cell_type": "markdown",
   "metadata": {},
   "source": [
    "# Lesson 5: Dates\n",
    "\n",
    "Python has built-in support for dates manipulation and calculations using its `datetime` package."
   ]
  },
  {
   "cell_type": "code",
   "execution_count": 3,
   "metadata": {},
   "outputs": [
    {
     "name": "stdout",
     "output_type": "stream",
     "text": [
      "Current time: 2022-10-29 16:13:13.261286\n"
     ]
    }
   ],
   "source": [
    "from datetime import (\n",
    "  datetime,\n",
    "  timedelta\n",
    ")\n",
    "\n",
    "current_time = datetime.now()\n",
    "your_birthday = datetime(2011, 2, 23)\n",
    "my_birthday = datetime.fromisoformat('1979-09-14')\n",
    "\n",
    "print(\"Current local time:\", current_time)\n",
    "print(\"My age:\". timedel)\n"
   ]
  }
 ],
 "metadata": {
  "kernelspec": {
   "display_name": "Python 3.10.4 64-bit",
   "language": "python",
   "name": "python3"
  },
  "language_info": {
   "codemirror_mode": {
    "name": "ipython",
    "version": 3
   },
   "file_extension": ".py",
   "mimetype": "text/x-python",
   "name": "python",
   "nbconvert_exporter": "python",
   "pygments_lexer": "ipython3",
   "version": "3.10.4"
  },
  "orig_nbformat": 4,
  "vscode": {
   "interpreter": {
    "hash": "aee8b7b246df8f9039afb4144a1f6fd8d2ca17a180786b69acc140d282b71a49"
   }
  }
 },
 "nbformat": 4,
 "nbformat_minor": 2
}
