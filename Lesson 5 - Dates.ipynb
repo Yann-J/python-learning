{
 "cells": [
  {
   "cell_type": "markdown",
   "metadata": {},
   "source": [
    "# Lesson 5: Dates\n",
    "\n",
    "Python has built-in support for creating, formatting, parsing, calculating dates using its `datetime` package, which has several useful classes:\n",
    "\n",
    "- `datetime` (yes, confusingly using the same name as the package) to hold dates and timestamps\n",
    "- `timedelta` to represent time intervals, useful to make date calculations\n",
    "- `tzinfo` to represent time zones\n"
   ]
  },
  {
   "cell_type": "markdown",
   "metadata": {},
   "source": [
    "## Basic usage"
   ]
  },
  {
   "cell_type": "code",
   "execution_count": 24,
   "metadata": {},
   "outputs": [
    {
     "name": "stdout",
     "output_type": "stream",
     "text": [
      "Current local time: 2022-10-29 17:05:35.015882\n",
      "Current month: 10\n",
      "Current weekday: 6\n",
      "Her birthday: 1979/04/29 at 11:32\n",
      "My age: 15751 days\n",
      "Is she older than me? True\n",
      "You were in 1500 days old on 2015-04-03 00:00:00\n"
     ]
    }
   ],
   "source": [
    "from datetime import (\n",
    "  datetime,\n",
    "  timedelta\n",
    ")\n",
    "\n",
    "# Creating, setting, parsing\n",
    "current_time = datetime.now()\n",
    "your_birthday = datetime(2011, 2, 23)\n",
    "my_birthday = datetime.fromisoformat('1979-09-14')\n",
    "her_birthday = datetime(year = 1979, month = 4, day = 29, hour = 11, minute = 32, second = 25)\n",
    "\n",
    "# Accessing, formatting\n",
    "print(\"Current local time:\", current_time)\n",
    "# simple datetime attributes like year, month etc are accessed as attributes\n",
    "print(\"Current month:\", current_time.month)\n",
    "# But others like weekday needs to be calculated and therefore invoke a function\n",
    "print(\"Current weekday:\", current_time.isoweekday())\n",
    "print(\"Her birthday:\", her_birthday.strftime('%Y/%m/%d at %H:%M'))\n",
    "\n",
    "# Calculations\n",
    "# the '-' operator between 2 `datetime` objects returns a `timedelta` object\n",
    "my_age = current_time - my_birthday\n",
    "print(f\"My age: {my_age.days} days\")\n",
    "# You can compare dates with < and > operators\n",
    "print(\"Is she older than me?\", her_birthday < my_birthday)\n",
    "# You can add or subtract a timedelta object from a datetime object\n",
    "print(\"You were in 1500 days old on\", your_birthday + timedelta(days = 1500))\n"
   ]
  },
  {
   "cell_type": "markdown",
   "metadata": {},
   "source": [
    "## Time Zones\n",
    "\n",
    "By default `datetime` objects are \"naive\", i.e. do not have any time zone information. It's up to the program to interpret these as a particular point in time in a specific time zone. This is often used as a simplification but can be ambiguous.\n",
    "\n",
    "To fully represent a real point in time with no ambiguity, `datetime` objects should include a time zone information. This is done using `tzinfo` objects, which represent a time zone, i.e. an object describing:\n",
    "\n",
    "- The base offset with the UTC time\n",
    "- Whether an extra Daylight Saving Time offset applies, for any point in time, and how much\n",
    "\n",
    "These details change fairly regularly (e.g. countries decide to stop applying DST, or change the dates), and keeping track of them is difficult. The `zoneinfo` module provides a reference list of all existing time zones, as known at the time."
   ]
  },
  {
   "cell_type": "code",
   "execution_count": 25,
   "metadata": {},
   "outputs": [
    {
     "name": "stdout",
     "output_type": "stream",
     "text": [
      "The meeting time: 2020-04-25 11:30:00+02:00\n",
      "The same meeting time for my colleagues: 2020-04-25 16:30:00+07:00\n",
      "The same meeting time in UTC: 2020-04-25 09:30:00+00:00\n"
     ]
    }
   ],
   "source": [
    "from zoneinfo import ZoneInfo\n",
    "from datetime import datetime\n",
    "\n",
    "meeting_time = datetime(2020, 4, 25, 11, 30, tzinfo=ZoneInfo('Africa/Kigali'))\n",
    "print(\"The meeting time:\", meeting_time)\n",
    "print(\"The same meeting time for my colleagues:\", meeting_time.astimezone(ZoneInfo('Asia/Bangkok')))\n",
    "print(\"The same meeting time in UTC:\", meeting_time.astimezone(ZoneInfo('UTC')))\n",
    "\n"
   ]
  }
 ],
 "metadata": {
  "kernelspec": {
   "display_name": "Python 3.10.4 64-bit",
   "language": "python",
   "name": "python3"
  },
  "language_info": {
   "codemirror_mode": {
    "name": "ipython",
    "version": 3
   },
   "file_extension": ".py",
   "mimetype": "text/x-python",
   "name": "python",
   "nbconvert_exporter": "python",
   "pygments_lexer": "ipython3",
   "version": "3.10.4"
  },
  "orig_nbformat": 4,
  "vscode": {
   "interpreter": {
    "hash": "aee8b7b246df8f9039afb4144a1f6fd8d2ca17a180786b69acc140d282b71a49"
   }
  }
 },
 "nbformat": 4,
 "nbformat_minor": 2
}
