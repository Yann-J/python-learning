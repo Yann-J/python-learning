{
 "cells": [
  {
   "cell_type": "markdown",
   "metadata": {},
   "source": [
    "# Lesson 4 - Regular Expressions\n",
    "\n",
    "Regular Expressions (regex) are a powerful way to look for various patterns of text. It is available in most languages, including Python, in slightly different flavours. It relies on a syntax that allows us to specify characters to match and their possible repetitions.\n",
    "\n",
    "In Python this is available in the package `re`, which needs to be imported before it can be used.\n",
    "\n",
    "A very useful website to build and test regular expressions is available at <https://regexr.com/>.\n",
    "\n",
    "__NOTE__: Regex patterns often use `\\` to specify special character matchers (e.g. where `\\s` means any whitespace character). This conflicts with Python's escape character (where e.g. `\\n` means a newline character). To solve this, regex patterns are often using Python's raw string syntax, using `r\"raw string\"`, which disables escape characters."
   ]
  },
  {
   "cell_type": "markdown",
   "metadata": {},
   "source": [
    "## Regex syntax overview"
   ]
  },
  {
   "cell_type": "code",
   "execution_count": 46,
   "metadata": {},
   "outputs": [
    {
     "name": "stdout",
     "output_type": "stream",
     "text": [
      "match regular characters: ['qui', 'qui', 'qui']\n",
      "match character classes with []: ['ad', 'ed', 'od', 'id', 'id', 'ad', 'ud', 'od', 'nd', 'id', 'id', 'id']\n",
      "built-in classes: \\w (word), \\s (spaces), \\d (digits), and their negations \\W, \\S, \\D... [' ad ', ' id ']\n",
      "match word boundaries with \\b ['ad', 'id']\n",
      "match one or more character with + ['ad', 'ea', 'id']\n",
      "match zero or one character with ? ['ad', 'id']\n",
      "match zero or more character with * ['dolor', 'do', 'dolore', 'dolor', 'dolore']\n",
      "match a specific number of characters with {} ['do', 'ut', 'et', 'ad', 'ut', 'ex', 'ea', 'in', 'in', 'eu', 'in', 'id']\n",
      "match either pattern with | ['a', 'i']\n"
     ]
    }
   ],
   "source": [
    "import re\n",
    "\n",
    "long_text = '''Lorem ipsum dolor sit amet, consectetur adipiscing elit, sed do eiusmod tempor incididunt ut labore et dolore magna aliqua.\n",
    "Ut enim ad minim veniam, quis nostrud exercitation ullamco laboris nisi ut aliquip ex ea commodo consequat.\n",
    "\n",
    "Duis aute irure dolor in reprehenderit in voluptate velit esse cillum dolore eu fugiat nulla pariatur.\n",
    "\n",
    "Excepteur sint occaecat cupidatat non proident, sunt in culpa qui officia deserunt mollit anim id est laborum'''\n",
    "\n",
    "print(r'match regular characters:', re.findall('qui', long_text))\n",
    "print(r'match character classes with []:', re.findall('[a-zA-Z0-9]d', long_text))\n",
    "print(r'built-in classes: \\w (word), \\s (spaces), \\d (digits), and their negations \\W, \\S, \\D...', re.findall(r'\\s\\wd\\s', long_text))\n",
    "print(r'match word boundaries with \\b', re.findall(r'\\b\\wd\\b', long_text))\n",
    "print('match one or more character with +', re.findall(r'\\b[a-i]+\\b', long_text))\n",
    "print('match zero or one character with ?', re.findall(r'\\b\\w?d\\b', long_text))\n",
    "print('match zero or more character with *', re.findall(r'\\bdo\\w*\\b', long_text))\n",
    "print('match a specific number of characters with {}', re.findall(r'\\b[a-z]{1,2}\\b', long_text))\n",
    "print('match either pattern with |', re.findall(r'\\b(a|i)d\\b', long_text))\n",
    "\n"
   ]
  },
  {
   "cell_type": "markdown",
   "metadata": {},
   "source": [
    "## Usage in Python"
   ]
  },
  {
   "cell_type": "code",
   "execution_count": 47,
   "metadata": {},
   "outputs": [
    {
     "name": "stdout",
     "output_type": "stream",
     "text": [
      "Find all matching substrings: ['is', 'is']\n",
      "Does this *entire* string match the pattern? None\n",
      "Replace all matches: These ese a string\n",
      "Split a string by regex separators: ['Lorem', 'ipsum', 'dolor', 'sit', 'amet', 'consectetur', 'adipiscing', 'elit', 'sed', 'do', 'eiusmod', 'tempor', 'incididunt', 'ut', 'labore', 'et', 'dolore', 'magna', 'aliqua', 'Ut', 'enim', 'ad', 'minim', 'veniam', 'quis', 'nostrud', 'exercitation', 'ullamco', 'laboris', 'nisi', 'ut', 'aliquip', 'ex', 'ea', 'commodo', 'consequat', 'Duis', 'aute', 'irure', 'dolor', 'in', 'reprehenderit', 'in', 'voluptate', 'velit', 'esse', 'cillum', 'dolore', 'eu', 'fugiat', 'nulla', 'pariatur', 'Excepteur', 'sint', 'occaecat', 'cupidatat', 'non', 'proident', 'sunt', 'in', 'culpa', 'qui', 'officia', 'deserunt', 'mollit', 'anim', 'id', 'est', 'laborum']\n"
     ]
    }
   ],
   "source": [
    "print('Find all matching substrings:', re.findall('is', 'This is a string'))\n",
    "print('Does this *entire* string match the pattern?', re.fullmatch('is', 'This is a string'))\n",
    "print('Replace all matches:', re.sub('is', 'ese', 'This is a string'))\n",
    "print('Split a string by regex separators:', re.split(r'\\W+', long_text))\n"
   ]
  }
 ],
 "metadata": {
  "kernelspec": {
   "display_name": "Python 3.10.6 64-bit",
   "language": "python",
   "name": "python3"
  },
  "language_info": {
   "codemirror_mode": {
    "name": "ipython",
    "version": 3
   },
   "file_extension": ".py",
   "mimetype": "text/x-python",
   "name": "python",
   "nbconvert_exporter": "python",
   "pygments_lexer": "ipython3",
   "version": "3.10.6"
  },
  "orig_nbformat": 4,
  "vscode": {
   "interpreter": {
    "hash": "b0fa6594d8f4cbf19f97940f81e996739fb7646882a419484c72d19e05852a7e"
   }
  }
 },
 "nbformat": 4,
 "nbformat_minor": 2
}
