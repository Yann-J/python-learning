{
 "cells": [
  {
   "cell_type": "markdown",
   "metadata": {},
   "source": [
    "# Lesson 1: Variables, Types, and Operations\n",
    "\n",
    "A variable is a named piece of memory that our programs use to store and manipulate some data.\n",
    "\n",
    "By convention they are generally named using `snake_case`.\n",
    "\n",
    "They have different **types** depending on the kind of data we want to store."
   ]
  },
  {
   "cell_type": "markdown",
   "metadata": {},
   "source": [
    "## Simple Types"
   ]
  },
  {
   "cell_type": "code",
   "execution_count": 57,
   "metadata": {},
   "outputs": [
    {
     "name": "stdout",
     "output_type": "stream",
     "text": [
      "int: 2\n",
      "float: 3.5\n",
      "string: This is a \"string\"\n",
      "boolean: True\n"
     ]
    }
   ],
   "source": [
    "# Numbers\n",
    "some_int = 2\n",
    "some_float = 3.5\n",
    "# string\n",
    "some_text = 'This is a \"string\"'\n",
    "some_text_2 = \"This is another 'string'\"\n",
    "some_text_3 = '''And this\n",
    "is a multiline string'''\n",
    "# boolean\n",
    "this_is_true = True\n",
    "\n",
    "print('int:', some_int)\n",
    "print('float:', some_float)\n",
    "print('string:', some_text)\n",
    "print('boolean:', this_is_true)\n"
   ]
  },
  {
   "cell_type": "markdown",
   "metadata": {},
   "source": [
    "## Data Structures"
   ]
  },
  {
   "cell_type": "markdown",
   "metadata": {},
   "source": [
    "### Lists\n",
    "\n",
    "A `list` can be used to store an **ordered** collection of any number of elements.\n",
    "\n",
    "Each element can be of any type - including possibly another `list`."
   ]
  },
  {
   "cell_type": "code",
   "execution_count": 58,
   "metadata": {},
   "outputs": [
    {
     "name": "stdout",
     "output_type": "stream",
     "text": [
      "list: ['Hello', 10, 3.5]\n"
     ]
    }
   ],
   "source": [
    "my_list = ['Hello', 10, some_float]\n",
    "\n",
    "print(\"list:\", my_list)"
   ]
  },
  {
   "cell_type": "markdown",
   "metadata": {},
   "source": [
    "### Dictionaries\n",
    "\n",
    "A `dictionary` can be used to store a collection of elements, in no particular order, that can be uniquely referenced/accessed using a `string` key - e.g. the age of different family members."
   ]
  },
  {
   "cell_type": "code",
   "execution_count": 59,
   "metadata": {},
   "outputs": [
    {
     "name": "stdout",
     "output_type": "stream",
     "text": [
      "dictionary: {'yann': 43, 'simon': 11, 'ganza': 7, 'fanny': 43}\n"
     ]
    }
   ],
   "source": [
    "ages = {\n",
    "  'yann': 43,\n",
    "  'simon': 11,\n",
    "  'ganza': 7,\n",
    "  'fanny': 43\n",
    "}\n",
    "\n",
    "print(\"dictionary:\", ages)"
   ]
  },
  {
   "cell_type": "markdown",
   "metadata": {},
   "source": [
    "## Operations\n",
    "\n",
    "Most variable types support a number of **operations** that we can apply on them to combine, calculate, or compare their values."
   ]
  },
  {
   "cell_type": "code",
   "execution_count": 60,
   "metadata": {},
   "outputs": [
    {
     "name": "stdout",
     "output_type": "stream",
     "text": [
      "add: 5.5\n",
      "subtract: 1.5\n",
      "multiply: 7.0\n",
      "division: 3.5\n",
      "integer division: 3\n",
      "modulus / remainder: 2\n",
      "exponent: 16\n",
      "False\n",
      "False\n",
      "True\n",
      "concatenate: This is the end\n",
      "repeat: HappyHappyHappyHappyHappy\n"
     ]
    }
   ],
   "source": [
    "# basic maths...\n",
    "print(\"add:\", some_float + some_int)\n",
    "print(\"subtract:\", some_float - some_int)\n",
    "print(\"multiply:\", 2 * some_float)\n",
    "print(\"division:\", 7 / 2)\n",
    "print(\"integer division:\", 7 // 2)\n",
    "print(\"modulus / remainder:\", 17 % 3)\n",
    "print(\"exponent:\", some_int ** 4)\n",
    "\n",
    "# Boolean operations\n",
    "print(not this_is_true)\n",
    "print(this_is_true and False)\n",
    "print(this_is_true or False)\n",
    "\n",
    "# String operations\n",
    "print('concatenate:', 'This is' + ' the end')\n",
    "print('repeat:', 'Happy' * 5)\n"
   ]
  },
  {
   "cell_type": "code",
   "execution_count": 61,
   "metadata": {},
   "outputs": [
    {
     "name": "stdout",
     "output_type": "stream",
     "text": [
      "my_list: ['Hello', 10, 3.5]\n",
      "first element: Hello\n",
      "a slice: [10, 3.5]\n",
      "is Hello present: True\n",
      "new list: [10, 12, 3.5, 'end', 'some', 'other', 'list']\n",
      "list length: 7\n",
      "sorted list: [3, 5, 23, 23, 76, 98]\n"
     ]
    }
   ],
   "source": [
    "# Having fun with lists\n",
    "my_list = ['Hello', 10, some_float]\n",
    "print(\"my_list:\", my_list)\n",
    "print(\"first element:\", my_list[0])          # access an element at a known index\n",
    "print(\"a slice:\", my_list[1:3])              # access a range / slice of the list\n",
    "print(\"is Hello present:\", 'Hello' in my_list)  # test if an element is present\n",
    "my_list.append('end')      # append an element at the end\n",
    "my_list.insert(2, 12)      # insert an element at a specific place\n",
    "my_list.remove('Hello')    # remove all elements having this value\n",
    "my_list = my_list + ['some', 'other', 'list']  # concatenate with another list\n",
    "print(\"new list:\", my_list)\n",
    "print(\"list length:\", len(my_list))          # length of the list\n",
    "\n",
    "# sorting\n",
    "print(\"sorted list:\", sorted([5, 23, 76, 3, 98, 23]))"
   ]
  },
  {
   "cell_type": "code",
   "execution_count": 62,
   "metadata": {},
   "outputs": [
    {
     "name": "stdout",
     "output_type": "stream",
     "text": [
      "Fanny's age: 43\n",
      "Do we know Fanny's age now: False\n",
      "Whose age do we have: ['yann', 'simon', 'ganza', 'zia']\n",
      "What are the ages: [43, 11, 7, 0.1]\n",
      "List form: [('yann', 43), ('simon', 11), ('ganza', 7), ('zia', 0.1)]\n"
     ]
    }
   ],
   "source": [
    "# dictionaries\n",
    "\n",
    "ages = {\n",
    "  'yann': 43,\n",
    "  'simon': 11,\n",
    "  'ganza': 7,\n",
    "  'fanny': 43\n",
    "}\n",
    "\n",
    "print(\"Fanny's age:\", ages['fanny'])   # access a value\n",
    "ages['zia'] = 0.1      # set a value\n",
    "del ages['fanny']\n",
    "print(\"Do we know Fanny's age now:\", 'fanny' in ages)       # test presence of a key\n",
    "print(\"Whose age do we have:\", list(ages.keys()))     # list existing keys\n",
    "print(\"What are the ages:\", list(ages.values()))   # list existing values (may NOT be in the same order!)\n",
    "print(\"List form:\", list(ages.items()))    # breaks the dictionary into a list of key-value tuples - can be useful for oredering"
   ]
  },
  {
   "cell_type": "markdown",
   "metadata": {},
   "source": [
    "## More on strings"
   ]
  },
  {
   "cell_type": "code",
   "execution_count": 63,
   "metadata": {},
   "outputs": [
    {
     "name": "stdout",
     "output_type": "stream",
     "text": [
      "This is Yann's age: 43\n",
      "is \n",
      "THIS IS A \"STRING\"\n",
      "This is a \"very interesting string\"\n"
     ]
    }
   ],
   "source": [
    "# formatted strings, or f-strings, can reference variables\n",
    "print(f\"This is Yann's age: {ages['yann']}\")\n",
    "\n",
    "# a string can be accessed as list of characters\n",
    "print(some_text[2:5])\n",
    "\n",
    "# various useful string methods\n",
    "print(some_text.upper())\n",
    "print(some_text.replace('string','very interesting string'))"
   ]
  }
 ],
 "metadata": {
  "kernelspec": {
   "display_name": "Python 3.10.4 64-bit",
   "language": "python",
   "name": "python3"
  },
  "language_info": {
   "codemirror_mode": {
    "name": "ipython",
    "version": 3
   },
   "file_extension": ".py",
   "mimetype": "text/x-python",
   "name": "python",
   "nbconvert_exporter": "python",
   "pygments_lexer": "ipython3",
   "version": "3.10.4"
  },
  "orig_nbformat": 4,
  "vscode": {
   "interpreter": {
    "hash": "aee8b7b246df8f9039afb4144a1f6fd8d2ca17a180786b69acc140d282b71a49"
   }
  }
 },
 "nbformat": 4,
 "nbformat_minor": 2
}
