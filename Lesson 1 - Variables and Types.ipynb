{
 "cells": [
  {
   "cell_type": "markdown",
   "metadata": {},
   "source": [
    "# Lesson 1: Variables, Types, and Operations\n",
    "\n",
    "A variable is a named piece of memory that our programs use to store and manipulate some data.\n",
    "\n",
    "By convention they are generally named using `snake_case`.\n",
    "\n",
    "They have different **types** depending on the kind of data we want to store."
   ]
  },
  {
   "cell_type": "markdown",
   "metadata": {},
   "source": [
    "## Simple Types"
   ]
  },
  {
   "cell_type": "code",
   "execution_count": 10,
   "metadata": {},
   "outputs": [
    {
     "name": "stdout",
     "output_type": "stream",
     "text": [
      "2\n",
      "3.5\n",
      "This is a string\n",
      "True\n"
     ]
    }
   ],
   "source": [
    "# Numbers\n",
    "some_int = 2\n",
    "some_float = 3.5\n",
    "# string\n",
    "some_text = 'This is a string'\n",
    "# boolean\n",
    "this_is_true = True\n",
    "\n",
    "print(some_int)\n",
    "print(some_float)\n",
    "print(some_text)\n",
    "print(this_is_true)\n"
   ]
  },
  {
   "cell_type": "markdown",
   "metadata": {},
   "source": [
    "## Data Structures"
   ]
  },
  {
   "cell_type": "markdown",
   "metadata": {},
   "source": [
    "### Lists\n",
    "\n",
    "A `list` can be used to store an **ordered** collection of any number of elements.\n",
    "\n",
    "Each element can be of any type - including possibly another `list`."
   ]
  },
  {
   "cell_type": "code",
   "execution_count": 11,
   "metadata": {},
   "outputs": [
    {
     "name": "stdout",
     "output_type": "stream",
     "text": [
      "['Hello', 10, 3.5]\n"
     ]
    }
   ],
   "source": [
    "my_list = ['Hello', 10, some_float]\n",
    "\n",
    "print(my_list)"
   ]
  },
  {
   "cell_type": "markdown",
   "metadata": {},
   "source": [
    "### Dictionaries\n",
    "\n",
    "A `dictionary` can be used to store a collection of elements, in no particular order, that can be uniquely referenced/accessed using a `string` key - e.g. the age of different family members."
   ]
  },
  {
   "cell_type": "code",
   "execution_count": 12,
   "metadata": {},
   "outputs": [
    {
     "name": "stdout",
     "output_type": "stream",
     "text": [
      "{'yann': 43, 'simon': 11, 'ganza': 7, 'fanny': 43}\n"
     ]
    }
   ],
   "source": [
    "ages = {\n",
    "  'yann': 43,\n",
    "  'simon': 11,\n",
    "  'ganza': 7,\n",
    "  'fanny': 43\n",
    "}\n",
    "\n",
    "print(ages)"
   ]
  },
  {
   "cell_type": "markdown",
   "metadata": {},
   "source": [
    "## Operations\n",
    "\n",
    "Most variable types support a number of **operations** that we can apply on them to combine, calculate, or compare their values."
   ]
  },
  {
   "cell_type": "code",
   "execution_count": 14,
   "metadata": {},
   "outputs": [
    {
     "name": "stdout",
     "output_type": "stream",
     "text": [
      "5.5\n",
      "1.5\n",
      "7.0\n",
      "3.5\n",
      "3\n",
      "2\n",
      "16\n",
      "False\n",
      "False\n",
      "True\n",
      "This is the end\n",
      "HappyHappyHappyHappyHappy\n"
     ]
    }
   ],
   "source": [
    "# basic maths...\n",
    "print(some_float + some_int)  # add\n",
    "print(some_float - some_int)  # subtract\n",
    "print(2 * some_float)  # multiply\n",
    "print(7 / 2)           # division\n",
    "print(7 // 2)          # integer division\n",
    "print(17 % 3)          # modulus / remainder\n",
    "print(some_int ** 4)   # exponent\n",
    "\n",
    "# Boolean operations\n",
    "print(not this_is_true)\n",
    "print(this_is_true and False)\n",
    "print(this_is_true or False)\n",
    "\n",
    "# String operations\n",
    "print('This is' + ' the end')  # concatenate\n",
    "print('Happy' * 5)             # repeat\n"
   ]
  },
  {
   "cell_type": "code",
   "execution_count": 26,
   "metadata": {},
   "outputs": [
    {
     "name": "stdout",
     "output_type": "stream",
     "text": [
      "['Hello', 10, 3.5]\n",
      "Hello\n",
      "True\n",
      "[10, 12, 3.5, 'end', 'some', 'other', 'list']\n",
      "[3, 5, 23, 23, 76, 98]\n"
     ]
    }
   ],
   "source": [
    "# Having fun with lists\n",
    "my_list = ['Hello', 10, some_float]\n",
    "print(my_list)\n",
    "print(my_list[0])          # access an element at a known index\n",
    "print('Hello' in my_list)  # test if an element is present\n",
    "my_list.append('end')      # append an element at the end\n",
    "my_list.insert(2, 12)      # insert an element at a specific place\n",
    "my_list.remove('Hello')    # remove all elements having this value\n",
    "my_list = my_list + ['some', 'other', 'list']  # concatenate with another list\n",
    "print(my_list)\n",
    "\n",
    "# sorting\n",
    "sorted_list = [5, 23, 76, 3, 98, 23]\n",
    "sorted_list.sort()\n",
    "print(sorted_list)"
   ]
  },
  {
   "cell_type": "code",
   "execution_count": 25,
   "metadata": {},
   "outputs": [
    {
     "name": "stdout",
     "output_type": "stream",
     "text": [
      "43\n",
      "['yann', 'simon', 'ganza', 'fanny', 'zia']\n",
      "[43, 11, 7, 43, 0.1]\n"
     ]
    }
   ],
   "source": [
    "# dictionaries\n",
    "\n",
    "ages = {\n",
    "  'yann': 43,\n",
    "  'simon': 11,\n",
    "  'ganza': 7,\n",
    "  'fanny': 43\n",
    "}\n",
    "\n",
    "print(ages['fanny'])   # access a value\n",
    "ages['zia'] = 0.1    # set a value\n",
    "print(list(ages.keys()))   # list existing keys\n",
    "print(list(ages.values()))   # list existing values (may NOT be in the same order!)"
   ]
  }
 ],
 "metadata": {
  "kernelspec": {
   "display_name": "Python 3.10.4 64-bit",
   "language": "python",
   "name": "python3"
  },
  "language_info": {
   "codemirror_mode": {
    "name": "ipython",
    "version": 3
   },
   "file_extension": ".py",
   "mimetype": "text/x-python",
   "name": "python",
   "nbconvert_exporter": "python",
   "pygments_lexer": "ipython3",
   "version": "3.10.4"
  },
  "orig_nbformat": 4,
  "vscode": {
   "interpreter": {
    "hash": "aee8b7b246df8f9039afb4144a1f6fd8d2ca17a180786b69acc140d282b71a49"
   }
  }
 },
 "nbformat": 4,
 "nbformat_minor": 2
}
