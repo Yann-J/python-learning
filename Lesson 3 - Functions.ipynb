{
 "cells": [
  {
   "cell_type": "markdown",
   "metadata": {},
   "source": [
    "# Lesson 3 - Functions\n",
    "\n",
    "Functions allow us to create some reusable blocks of code. Python comes with a large number of used functions built-in, but we can also define our own.\n",
    "\n",
    "Functions can take a number of input parameters, and may return a value.\n",
    "\n",
    "They allow us to keep our code neatly organized into isolated parts, and reusable."
   ]
  },
  {
   "cell_type": "code",
   "execution_count": 17,
   "metadata": {},
   "outputs": [
    {
     "name": "stdout",
     "output_type": "stream",
     "text": [
      "6\n"
     ]
    }
   ],
   "source": [
    "# declare a function\n",
    "def multiply(a, b):\n",
    "  return a * b\n",
    "\n",
    "# invoke it\n",
    "print(multiply(3, 2))"
   ]
  },
  {
   "cell_type": "markdown",
   "metadata": {},
   "source": [
    "## Recursion\n",
    "\n",
    "Functions can invoke themselves. This allows us to create recursive algorithms, where the return value is determined by the return values for other input parameters."
   ]
  },
  {
   "cell_type": "code",
   "execution_count": 18,
   "metadata": {},
   "outputs": [
    {
     "name": "stdout",
     "output_type": "stream",
     "text": [
      "233\n"
     ]
    }
   ],
   "source": [
    "def fibonacci(n):\n",
    "  if n <= 1:\n",
    "    return 1\n",
    "  else:\n",
    "    return fibonacci(n-1) + fibonacci(n-2)\n",
    "\n",
    "print(fibonacci(12))"
   ]
  },
  {
   "cell_type": "markdown",
   "metadata": {},
   "source": [
    "## String Functions"
   ]
  },
  {
   "cell_type": "code",
   "execution_count": 19,
   "metadata": {},
   "outputs": [
    {
     "name": "stdout",
     "output_type": "stream",
     "text": [
      "Split a string: ['This', 'is', 'a', 'long', 'string']\n",
      "Find a substring: 10\n",
      "Replace a substring: This is a short string\n",
      "Change case: THIS IS A LONG STRING | This is a long string | This Is A Long String\n",
      "Join a list of strings: A list of words\n"
     ]
    }
   ],
   "source": [
    "long_string = 'This is a long string'\n",
    "print('Split a string:', long_string.split())\n",
    "print('Find a substring:', long_string.find('long'))\n",
    "print('Replace a substring:', long_string.replace('long', 'short'))\n",
    "print('Change case:', \n",
    "  long_string.upper(), '|', \n",
    "  long_string.capitalize(), '|',\n",
    "  long_string.title()\n",
    ")\n",
    "print('Join a list of strings:', ' '.join(['A', 'list', 'of', 'words']))\n"
   ]
  }
 ],
 "metadata": {
  "kernelspec": {
   "display_name": "Python 3.10.4 64-bit",
   "language": "python",
   "name": "python3"
  },
  "language_info": {
   "codemirror_mode": {
    "name": "ipython",
    "version": 3
   },
   "file_extension": ".py",
   "mimetype": "text/x-python",
   "name": "python",
   "nbconvert_exporter": "python",
   "pygments_lexer": "ipython3",
   "version": "3.10.4"
  },
  "orig_nbformat": 4,
  "vscode": {
   "interpreter": {
    "hash": "aee8b7b246df8f9039afb4144a1f6fd8d2ca17a180786b69acc140d282b71a49"
   }
  }
 },
 "nbformat": 4,
 "nbformat_minor": 2
}
