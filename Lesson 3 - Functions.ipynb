{
 "cells": [
  {
   "cell_type": "markdown",
   "metadata": {},
   "source": [
    "# Lesson 3 - Functions\n",
    "\n",
    "Functions allow us to create some reusable blocks of code. Python comes with a large number of used functions built-in, but we can also define our own.\n",
    "\n",
    "Functions can take a number of input parameters, and may return a value.\n",
    "\n",
    "They allow us to keep our code neatly organized into isolated parts, and reusable."
   ]
  },
  {
   "cell_type": "code",
   "execution_count": 39,
   "metadata": {},
   "outputs": [
    {
     "name": "stdout",
     "output_type": "stream",
     "text": [
      "6\n"
     ]
    }
   ],
   "source": [
    "# declare a function\n",
    "def multiply(a, b):\n",
    "  return a * b\n",
    "\n",
    "# invoke it\n",
    "print(multiply(3, 2))"
   ]
  },
  {
   "cell_type": "markdown",
   "metadata": {},
   "source": [
    "## Recursion\n",
    "\n",
    "Functions can invoke themselves. This allows us to create recursive algorithms, where the return value is determined by the return values for other input parameters."
   ]
  },
  {
   "cell_type": "code",
   "execution_count": 40,
   "metadata": {},
   "outputs": [
    {
     "name": "stdout",
     "output_type": "stream",
     "text": [
      "233\n"
     ]
    }
   ],
   "source": [
    "def fibonacci(n):\n",
    "  if n <= 1:\n",
    "    return 1\n",
    "  else:\n",
    "    return fibonacci(n-1) + fibonacci(n-2)\n",
    "\n",
    "print(fibonacci(12))"
   ]
  },
  {
   "cell_type": "markdown",
   "metadata": {},
   "source": [
    "## String Functions"
   ]
  },
  {
   "cell_type": "code",
   "execution_count": 41,
   "metadata": {},
   "outputs": [
    {
     "name": "stdout",
     "output_type": "stream",
     "text": [
      "Split a string: ['This', 'is', 'a', 'long', 'string']\n",
      "Find a substring: 10\n",
      "Replace a substring: This is a short string\n",
      "Change case: THIS IS A LONG STRING | This is a long string | This Is A Long String\n",
      "Join a list of strings: A list of words\n"
     ]
    }
   ],
   "source": [
    "long_string = 'This is a long string'\n",
    "print('Split a string:', long_string.split())\n",
    "print('Find a substring:', long_string.find('long'))\n",
    "print('Replace a substring:', long_string.replace('long', 'short'))\n",
    "print('Change case:', \n",
    "  long_string.upper(), '|', \n",
    "  long_string.capitalize(), '|',\n",
    "  long_string.title()\n",
    ")\n",
    "print('Join a list of strings:', ' '.join(['A', 'list', 'of', 'words']))\n"
   ]
  },
  {
   "cell_type": "markdown",
   "metadata": {},
   "source": [
    "## List Functions"
   ]
  },
  {
   "cell_type": "code",
   "execution_count": 42,
   "metadata": {},
   "outputs": [
    {
     "name": "stdout",
     "output_type": "stream",
     "text": [
      "length: 5\n",
      "min: a\n",
      "max: y\n",
      "index of first occurrence of \"x\": 2\n",
      "count occurrences of \"x\": 2\n"
     ]
    }
   ],
   "source": [
    "letters = ['a', 'b', 'x', 'y', 'x']\n",
    "\n",
    "print('length:', len(letters))\n",
    "print('min:', min(letters))\n",
    "print('max:', max(letters))\n",
    "print('index of first occurrence of \"x\":', letters.index('x'))\n",
    "print('count occurrences of \"x\":', letters.count('x'))\n"
   ]
  },
  {
   "cell_type": "markdown",
   "metadata": {},
   "source": [
    "### Sorting\n",
    "\n",
    "Sorting is a very common operation we might want to do on a `list`."
   ]
  },
  {
   "cell_type": "code",
   "execution_count": 43,
   "metadata": {},
   "outputs": [
    {
     "name": "stdout",
     "output_type": "stream",
     "text": [
      "sorted numbers: [3, 5, 23, 23, 76, 98]\n",
      "sorted strings: ['words', 'unordered', 'some', 'random']\n",
      "sorted strings by length: ['some', 'words', 'random', 'unordered']\n",
      "sorted by a dictionary value: [{'value': 'First item', 'rank': 1}, {'value': '5th item', 'rank': 5}, {'value': '8th item', 'rank': 8}, {'value': '10th item', 'rank': 10}]\n",
      "sorted by a dictionary value using a lambda function: [{'value': 'First item', 'rank': 1}, {'value': '5th item', 'rank': 5}, {'value': '8th item', 'rank': 8}, {'value': '10th item', 'rank': 10}]\n"
     ]
    }
   ],
   "source": [
    "print(\"sorted numbers:\", sorted([5, 23, 76, 3, 98, 23]))\n",
    "print(\"sorted strings:\", sorted(['some','random','words','unordered'], reverse=True))\n",
    "\n",
    "# we can sort by some complex metric, specified as a function to compute the relevant sorting metric for each element\n",
    "print(\"sorted strings by length:\", sorted(['some','random','words','unordered'], key=len))\n",
    "\n",
    "def get_rank(item):\n",
    "  return item['rank']\n",
    "\n",
    "print(\"sorted by a dictionary value:\", sorted([\n",
    "  {'value':'First item', 'rank': 1},\n",
    "  {'value':'10th item', 'rank': 10},\n",
    "  {'value':'5th item', 'rank': 5},\n",
    "  {'value':'8th item', 'rank': 8},\n",
    "], key=get_rank))\n",
    "\n",
    "# the key function can also be defined inline (no need to declare it beforehand) by using the lambda syntax:\n",
    "print(\"sorted by a dictionary value using a lambda function:\", sorted([\n",
    "  {'value':'First item', 'rank': 1},\n",
    "  {'value':'10th item', 'rank': 10},\n",
    "  {'value':'5th item', 'rank': 5},\n",
    "  {'value':'8th item', 'rank': 8},\n",
    "], key=lambda x:x['rank']))\n"
   ]
  }
 ],
 "metadata": {
  "kernelspec": {
   "display_name": "Python 3.10.4 64-bit",
   "language": "python",
   "name": "python3"
  },
  "language_info": {
   "codemirror_mode": {
    "name": "ipython",
    "version": 3
   },
   "file_extension": ".py",
   "mimetype": "text/x-python",
   "name": "python",
   "nbconvert_exporter": "python",
   "pygments_lexer": "ipython3",
   "version": "3.10.4"
  },
  "orig_nbformat": 4,
  "vscode": {
   "interpreter": {
    "hash": "aee8b7b246df8f9039afb4144a1f6fd8d2ca17a180786b69acc140d282b71a49"
   }
  }
 },
 "nbformat": 4,
 "nbformat_minor": 2
}
